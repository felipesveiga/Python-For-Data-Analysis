{
 "cells": [
  {
   "cell_type": "code",
   "execution_count": 2,
   "id": "83b6ab4b-a031-469e-8bb2-9f273fb314e5",
   "metadata": {},
   "outputs": [],
   "source": [
    "import pandas as pd\n",
    "import numpy as np"
   ]
  },
  {
   "cell_type": "markdown",
   "id": "cfb11ba9-b6a1-4147-bb00-0acb04685d9d",
   "metadata": {},
   "source": [
    "# #13.1 (Interfacing Between pandas and Model Core)"
   ]
  },
  {
   "cell_type": "code",
   "execution_count": 10,
   "id": "3cb49de1-e0c7-4b3e-96f3-a42932e78c71",
   "metadata": {},
   "outputs": [
    {
     "data": {
      "text/plain": [
       "array([['Cara', 1, 1.0],\n",
       "       ['Coroa', 2, 1.5],\n",
       "       ['Salada', 3, 2.0],\n",
       "       ['Arroz', 4, 2.5],\n",
       "       ['Queijo', 5, 3.0]], dtype=object)"
      ]
     },
     "execution_count": 10,
     "metadata": {},
     "output_type": "execute_result"
    }
   ],
   "source": [
    "# O livro nos ensina que os dados do pandas são transferidos a bibliotecas de ML como arrays do numpy\n",
    "d = {'Característica':['Cara','Coroa','Salada','Arroz','Queijo'],\n",
    "    'Número':[i for i in range(1,6)],\n",
    "    'Linspace':np.linspace(1,3,5)}\n",
    "dados = pd.DataFrame(d)\n",
    "\n",
    "# Para transformar um DF do pandas a um array do numpy, basta utilizar .values\n",
    "dados.values"
   ]
  }
 ],
 "metadata": {
  "kernelspec": {
   "display_name": "Python 3",
   "language": "python",
   "name": "python3"
  },
  "language_info": {
   "codemirror_mode": {
    "name": "ipython",
    "version": 3
   },
   "file_extension": ".py",
   "mimetype": "text/x-python",
   "name": "python",
   "nbconvert_exporter": "python",
   "pygments_lexer": "ipython3",
   "version": "3.8.8"
  }
 },
 "nbformat": 4,
 "nbformat_minor": 5
}
