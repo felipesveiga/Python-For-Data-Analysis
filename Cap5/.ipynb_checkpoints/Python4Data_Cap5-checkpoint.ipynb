{
 "cells": [
  {
   "cell_type": "code",
   "execution_count": 1,
   "id": "white-spring",
   "metadata": {},
   "outputs": [
    {
     "data": {
      "text/plain": [
       "True"
      ]
     },
     "execution_count": 1,
     "metadata": {},
     "output_type": "execute_result"
    }
   ],
   "source": [
    "import pandas as pd\n",
    "from pandas import Series, DataFrame\n",
    "notas=pd.Series([9.5,4.7,7.6], index=['P1','P2','P3'])\n",
    "'P3' in notas\n"
   ]
  },
  {
   "cell_type": "code",
   "execution_count": 3,
   "id": "potential-glance",
   "metadata": {},
   "outputs": [
    {
     "data": {
      "text/plain": [
       "SP    2000\n",
       "RJ    1800\n",
       "ES     700\n",
       "MG    1300\n",
       "CE     340\n",
       "BA     150\n",
       "dtype: int64"
      ]
     },
     "execution_count": 3,
     "metadata": {},
     "output_type": "execute_result"
    }
   ],
   "source": [
    "d={'SP':2000,'RJ':1800,'ES':700,'MG':1300, 'CE':340,'BA':150} #Number of individuals vaccinated from COVID-19 in thousands of people\n",
    "states=['BA','SP','MG','PB']\n",
    "states2=['RJ','CE', 'SP', 'BA']\n",
    "m=pd.Series(d, index=states)\n",
    "o=pd.Series(d, index=states2)\n",
    "m.name='people vaccinated COVID-19'\n",
    "m.index.name='States'\n",
    "m.index=['MA','AM','PA', 'AC']\n"
   ]
  },
  {
   "cell_type": "code",
   "execution_count": 24,
   "id": "photographic-treatment",
   "metadata": {},
   "outputs": [
    {
     "data": {
      "text/html": [
       "<div>\n",
       "<style scoped>\n",
       "    .dataframe tbody tr th:only-of-type {\n",
       "        vertical-align: middle;\n",
       "    }\n",
       "\n",
       "    .dataframe tbody tr th {\n",
       "        vertical-align: top;\n",
       "    }\n",
       "\n",
       "    .dataframe thead th {\n",
       "        text-align: right;\n",
       "    }\n",
       "</style>\n",
       "<table border=\"1\" class=\"dataframe\">\n",
       "  <thead>\n",
       "    <tr style=\"text-align: right;\">\n",
       "      <th></th>\n",
       "      <th>Fully Vaccinated (Millions)</th>\n",
       "    </tr>\n",
       "    <tr>\n",
       "      <th>States</th>\n",
       "      <th></th>\n",
       "    </tr>\n",
       "  </thead>\n",
       "  <tbody>\n",
       "    <tr>\n",
       "      <th>SP</th>\n",
       "      <td>2.0</td>\n",
       "    </tr>\n",
       "    <tr>\n",
       "      <th>RJ</th>\n",
       "      <td>1.2</td>\n",
       "    </tr>\n",
       "    <tr>\n",
       "      <th>ES</th>\n",
       "      <td>0.7</td>\n",
       "    </tr>\n",
       "    <tr>\n",
       "      <th>MG</th>\n",
       "      <td>1.5</td>\n",
       "    </tr>\n",
       "    <tr>\n",
       "      <th>RS</th>\n",
       "      <td>1.2</td>\n",
       "    </tr>\n",
       "    <tr>\n",
       "      <th>PR</th>\n",
       "      <td>1.1</td>\n",
       "    </tr>\n",
       "    <tr>\n",
       "      <th>AM</th>\n",
       "      <td>NaN</td>\n",
       "    </tr>\n",
       "  </tbody>\n",
       "</table>\n",
       "</div>"
      ],
      "text/plain": [
       "        Fully Vaccinated (Millions)\n",
       "States                             \n",
       "SP                              2.0\n",
       "RJ                              1.2\n",
       "ES                              0.7\n",
       "MG                              1.5\n",
       "RS                              1.2\n",
       "PR                              1.1\n",
       "AM                              NaN"
      ]
     },
     "execution_count": 24,
     "metadata": {},
     "output_type": "execute_result"
    }
   ],
   "source": [
    "data={\n",
    "  'Fully Vaccinated (Millions)':[2,1.2,0.7,1.5,1.2,1.1,0.7],\n",
    "     }\n",
    "\n",
    "frame=DataFrame(data, index=['SP', 'RJ', 'ES', 'MG','RS','PR','FL'],\n",
    "              )\n",
    "frame2=DataFrame(data, index=[1,2,3,4,5,6,7]) \n",
    "frame2['Population (Millions)']=[31,24.0,23.0,12,11.5,7.5,2]\n",
    "\n",
    "s=pd.Series([23,42,89], index=[3,2,1])\n",
    "frame2['Vaccine Ratio (%)']=(frame2['Fully Vaccinated (Millions)'] / frame2['Population (Millions)'])*100\n",
    "frame.index.name='States'\n",
    "frame.reindex(['SP', 'RJ', 'ES', 'MG','RS','PR','AM'])\n"
   ]
  },
  {
   "cell_type": "code",
   "execution_count": 145,
   "id": "supposed-paste",
   "metadata": {},
   "outputs": [
    {
     "data": {
      "text/html": [
       "<div>\n",
       "<style scoped>\n",
       "    .dataframe tbody tr th:only-of-type {\n",
       "        vertical-align: middle;\n",
       "    }\n",
       "\n",
       "    .dataframe tbody tr th {\n",
       "        vertical-align: top;\n",
       "    }\n",
       "\n",
       "    .dataframe thead th {\n",
       "        text-align: right;\n",
       "    }\n",
       "</style>\n",
       "<table border=\"1\" class=\"dataframe\">\n",
       "  <thead>\n",
       "    <tr style=\"text-align: right;\">\n",
       "      <th></th>\n",
       "      <th>Population</th>\n",
       "      <th>Poverty Rate (%)</th>\n",
       "      <th>Violence Rates (1:100)</th>\n",
       "    </tr>\n",
       "  </thead>\n",
       "  <tbody>\n",
       "    <tr>\n",
       "      <th>1</th>\n",
       "      <td>17.5</td>\n",
       "      <td>23</td>\n",
       "      <td>100</td>\n",
       "    </tr>\n",
       "    <tr>\n",
       "      <th>2</th>\n",
       "      <td>20.0</td>\n",
       "      <td>6</td>\n",
       "      <td>100</td>\n",
       "    </tr>\n",
       "    <tr>\n",
       "      <th>3</th>\n",
       "      <td>30.0</td>\n",
       "      <td>32</td>\n",
       "      <td>100</td>\n",
       "    </tr>\n",
       "    <tr>\n",
       "      <th>4</th>\n",
       "      <td>21.0</td>\n",
       "      <td>17</td>\n",
       "      <td>100</td>\n",
       "    </tr>\n",
       "  </tbody>\n",
       "</table>\n",
       "</div>"
      ],
      "text/plain": [
       "   Population  Poverty Rate (%)  Violence Rates (1:100)\n",
       "1        17.5                23                     100\n",
       "2        20.0                 6                     100\n",
       "3        30.0                32                     100\n",
       "4        21.0                17                     100"
      ]
     },
     "execution_count": 145,
     "metadata": {},
     "output_type": "execute_result"
    }
   ],
   "source": [
    "import pandas as pd\n",
    "from pandas import DataFrame, Series\n",
    "p=pd.DataFrame()\n",
    "p['Population']=[17.5,20.0,30.0,21.0]\n",
    "p['Poverty Rate (%)']=[23,6,32,17]\n",
    "p['Violence Rates (1:100)']=100\n",
    "p.index=[1,2,3,4]\n",
    "p"
   ]
  },
  {
   "cell_type": "code",
   "execution_count": 12,
   "id": "organizational-organ",
   "metadata": {},
   "outputs": [
    {
     "data": {
      "text/html": [
       "<div>\n",
       "<style scoped>\n",
       "    .dataframe tbody tr th:only-of-type {\n",
       "        vertical-align: middle;\n",
       "    }\n",
       "\n",
       "    .dataframe tbody tr th {\n",
       "        vertical-align: top;\n",
       "    }\n",
       "\n",
       "    .dataframe thead th {\n",
       "        text-align: right;\n",
       "    }\n",
       "</style>\n",
       "<table border=\"1\" class=\"dataframe\">\n",
       "  <thead>\n",
       "    <tr style=\"text-align: right;\">\n",
       "      <th></th>\n",
       "      <th>Ameba</th>\n",
       "      <th>Dados</th>\n",
       "    </tr>\n",
       "  </thead>\n",
       "  <tbody>\n",
       "    <tr>\n",
       "      <th>0</th>\n",
       "      <td>1</td>\n",
       "      <td>Lua</td>\n",
       "    </tr>\n",
       "    <tr>\n",
       "      <th>1</th>\n",
       "      <td>2</td>\n",
       "      <td>Caverna</td>\n",
       "    </tr>\n",
       "    <tr>\n",
       "      <th>2</th>\n",
       "      <td>5</td>\n",
       "      <td>Terra</td>\n",
       "    </tr>\n",
       "    <tr>\n",
       "      <th>3</th>\n",
       "      <td>2</td>\n",
       "      <td>Sol</td>\n",
       "    </tr>\n",
       "    <tr>\n",
       "      <th>4</th>\n",
       "      <td>5</td>\n",
       "      <td>Marte</td>\n",
       "    </tr>\n",
       "    <tr>\n",
       "      <th>5</th>\n",
       "      <td>1</td>\n",
       "      <td>Júpiter</td>\n",
       "    </tr>\n",
       "    <tr>\n",
       "      <th>6</th>\n",
       "      <td>12</td>\n",
       "      <td>Saturno</td>\n",
       "    </tr>\n",
       "  </tbody>\n",
       "</table>\n",
       "</div>"
      ],
      "text/plain": [
       "   Ameba    Dados\n",
       "0      1      Lua\n",
       "1      2  Caverna\n",
       "2      5    Terra\n",
       "3      2      Sol\n",
       "4      5    Marte\n",
       "5      1  Júpiter\n",
       "6     12  Saturno"
      ]
     },
     "execution_count": 12,
     "metadata": {},
     "output_type": "execute_result"
    }
   ],
   "source": [
    "felipe=pd.Series([1,2,3,4,5,'teste'])\n",
    "j=pd.DataFrame({'Ameba':[1,2,5,2,5,1,12] })\n",
    "j['Dados']=['Lua','Caverna','Terra','Sol','Marte','Júpiter', 'Saturno']\n",
    "j"
   ]
  },
  {
   "cell_type": "code",
   "execution_count": 25,
   "id": "funny-joseph",
   "metadata": {},
   "outputs": [
    {
     "data": {
      "text/html": [
       "<div>\n",
       "<style scoped>\n",
       "    .dataframe tbody tr th:only-of-type {\n",
       "        vertical-align: middle;\n",
       "    }\n",
       "\n",
       "    .dataframe tbody tr th {\n",
       "        vertical-align: top;\n",
       "    }\n",
       "\n",
       "    .dataframe thead th {\n",
       "        text-align: right;\n",
       "    }\n",
       "</style>\n",
       "<table border=\"1\" class=\"dataframe\">\n",
       "  <thead>\n",
       "    <tr style=\"text-align: right;\">\n",
       "      <th></th>\n",
       "      <th>alianca</th>\n",
       "    </tr>\n",
       "  </thead>\n",
       "  <tbody>\n",
       "    <tr>\n",
       "      <th>0</th>\n",
       "      <td>1</td>\n",
       "    </tr>\n",
       "    <tr>\n",
       "      <th>1</th>\n",
       "      <td>2</td>\n",
       "    </tr>\n",
       "    <tr>\n",
       "      <th>2</th>\n",
       "      <td>3</td>\n",
       "    </tr>\n",
       "    <tr>\n",
       "      <th>3</th>\n",
       "      <td>4</td>\n",
       "    </tr>\n",
       "    <tr>\n",
       "      <th>4</th>\n",
       "      <td>5</td>\n",
       "    </tr>\n",
       "  </tbody>\n",
       "</table>\n",
       "</div>"
      ],
      "text/plain": [
       "  alianca\n",
       "0       1\n",
       "1       2\n",
       "2       3\n",
       "3       4\n",
       "4       5"
      ]
     },
     "execution_count": 25,
     "metadata": {},
     "output_type": "execute_result"
    }
   ],
   "source": [
    "felipe=pd.Series([1,2,3,4,5,'teste'])\n",
    "DataFrame({'alianca':felipe} , index=[0,1,2,3,4])"
   ]
  },
  {
   "cell_type": "code",
   "execution_count": 5,
   "id": "casual-steering",
   "metadata": {},
   "outputs": [
    {
     "data": {
      "text/plain": [
       "1    SP\n",
       "2    RJ\n",
       "Name: States, dtype: object"
      ]
     },
     "execution_count": 5,
     "metadata": {},
     "output_type": "execute_result"
    }
   ],
   "source": [
    "import pandas as pd\n",
    "from pandas import  Series, DataFrame\n",
    "d={'States':['SP','RJ','MG','ES'],\n",
    "  'Vaccinated (Millions)':[2.3,1.5,1.7,0.8],\n",
    "  'Population (Millions)':[20,13.7,11.3,6.5]\n",
    "  }\n",
    "s=Series([1,2,4], index=[2,3,4])\n",
    "frame=DataFrame(d, index=np.arange(1,5))\n",
    "frame['Vaccine Ratio (%)']=frame['Vaccinated (Millions)']/frame['Population (Millions)']*100\n",
    "frame['teste']=s\n",
    "frame['verdade']=frame['States']=='SP'\n",
    "del frame['verdade']\n",
    "del frame['teste']\n",
    "frame['States'] [:2]"
   ]
  },
  {
   "cell_type": "code",
   "execution_count": 19,
   "id": "raised-retention",
   "metadata": {},
   "outputs": [
    {
     "data": {
      "text/plain": [
       "True"
      ]
     },
     "execution_count": 19,
     "metadata": {},
     "output_type": "execute_result"
    }
   ],
   "source": [
    "d={'Population':{'São Paulo':34, 'Rio de Janeiro':21, 'Espírito Santo':11},\n",
    "  'Lixo Produzido':{'São Paulo':21, 'Rio de Janeiro': 10, 'Espírito Santo':21}}\n",
    "a=DataFrame(d)\n",
    "o={'Population':a['Population'][:-1],\n",
    "  'Lixo Produzido':a['Lixo Produzido'][:2]}\n",
    "'Rio de Janeiro' in a.index\n"
   ]
  },
  {
   "cell_type": "code",
   "execution_count": 25,
   "id": "varying-camping",
   "metadata": {},
   "outputs": [
    {
     "data": {
      "text/plain": [
       "Int64Index([0, 1, 2], dtype='int64')"
      ]
     },
     "execution_count": 25,
     "metadata": {},
     "output_type": "execute_result"
    }
   ],
   "source": [
    "a=pd.Index(np.arange(3))\n",
    "a\n",
    "#pd.Series([1,2,3], index=a)"
   ]
  },
  {
   "cell_type": "code",
   "execution_count": 80,
   "id": "satisfied-authorization",
   "metadata": {},
   "outputs": [
    {
     "data": {
      "text/html": [
       "<div>\n",
       "<style scoped>\n",
       "    .dataframe tbody tr th:only-of-type {\n",
       "        vertical-align: middle;\n",
       "    }\n",
       "\n",
       "    .dataframe tbody tr th {\n",
       "        vertical-align: top;\n",
       "    }\n",
       "\n",
       "    .dataframe thead th {\n",
       "        text-align: right;\n",
       "    }\n",
       "</style>\n",
       "<table border=\"1\" class=\"dataframe\">\n",
       "  <thead>\n",
       "    <tr style=\"text-align: right;\">\n",
       "      <th></th>\n",
       "      <th>SP</th>\n",
       "      <th>RJ</th>\n",
       "      <th>RS</th>\n",
       "    </tr>\n",
       "  </thead>\n",
       "  <tbody>\n",
       "    <tr>\n",
       "      <th>a</th>\n",
       "      <td>0.0</td>\n",
       "      <td>1.0</td>\n",
       "      <td>NaN</td>\n",
       "    </tr>\n",
       "    <tr>\n",
       "      <th>m</th>\n",
       "      <td>3.0</td>\n",
       "      <td>4.0</td>\n",
       "      <td>NaN</td>\n",
       "    </tr>\n",
       "    <tr>\n",
       "      <th>z</th>\n",
       "      <td>6.0</td>\n",
       "      <td>7.0</td>\n",
       "      <td>NaN</td>\n",
       "    </tr>\n",
       "    <tr>\n",
       "      <th>b</th>\n",
       "      <td>NaN</td>\n",
       "      <td>NaN</td>\n",
       "      <td>NaN</td>\n",
       "    </tr>\n",
       "  </tbody>\n",
       "</table>\n",
       "</div>"
      ],
      "text/plain": [
       "    SP   RJ  RS\n",
       "a  0.0  1.0 NaN\n",
       "m  3.0  4.0 NaN\n",
       "z  6.0  7.0 NaN\n",
       "b  NaN  NaN NaN"
      ]
     },
     "execution_count": 80,
     "metadata": {},
     "output_type": "execute_result"
    }
   ],
   "source": [
    "estados=DataFrame(np.arange(9).reshape(3,3),\n",
    "         index=['a','m','z'], columns=['SP', 'RJ','AM'])\n",
    "correcao=['SP','RJ', 'RS']\n",
    "#estados.reindex(['a','d' ,'m','z'], columns=correcao)\n",
    "estados.reindex(['a','m','z','b'], columns=correcao)\n",
    "\n",
    "#estados.reindex(columns=correcao)"
   ]
  },
  {
   "cell_type": "code",
   "execution_count": 1,
   "id": "literary-chassis",
   "metadata": {},
   "outputs": [
    {
     "ename": "NameError",
     "evalue": "name 'DataFrame' is not defined",
     "output_type": "error",
     "traceback": [
      "\u001b[0;31m---------------------------------------------------------------------------\u001b[0m",
      "\u001b[0;31mNameError\u001b[0m                                 Traceback (most recent call last)",
      "\u001b[0;32m<ipython-input-1-cbd80c28a512>\u001b[0m in \u001b[0;36m<module>\u001b[0;34m\u001b[0m\n\u001b[0;32m----> 1\u001b[0;31m a=DataFrame({'Vacinados':{'São Paulo':23, 'Rio de Janeiro':12.5, 'Minas Gerais':13.1, 'Amazonas':0.8},\n\u001b[0m\u001b[1;32m      2\u001b[0m           'População':{'São Paulo':48, 'Rio de Janeiro':37.8, 'Minas Gerais':31.4}})\n\u001b[1;32m      3\u001b[0m \u001b[0ma\u001b[0m\u001b[0;34m.\u001b[0m\u001b[0mcolumns\u001b[0m\u001b[0;34m.\u001b[0m\u001b[0mname\u001b[0m\u001b[0;34m=\u001b[0m\u001b[0;34m'Estados'\u001b[0m\u001b[0;34m\u001b[0m\u001b[0;34m\u001b[0m\u001b[0m\n\u001b[1;32m      4\u001b[0m \u001b[0ma\u001b[0m\u001b[0;34m\u001b[0m\u001b[0;34m\u001b[0m\u001b[0m\n",
      "\u001b[0;31mNameError\u001b[0m: name 'DataFrame' is not defined"
     ]
    }
   ],
   "source": [
    "a=DataFrame({'Vacinados':{'São Paulo':23, 'Rio de Janeiro':12.5, 'Minas Gerais':13.1, 'Amazonas':0.8},\n",
    "          'População':{'São Paulo':48, 'Rio de Janeiro':37.8, 'Minas Gerais':31.4}})\n",
    "a.columns.name='Estados'\n",
    "a"
   ]
  },
  {
   "cell_type": "code",
   "execution_count": 1,
   "id": "instrumental-slovak",
   "metadata": {},
   "outputs": [
    {
     "data": {
      "text/plain": [
       "SP     2\n",
       "RJ     6\n",
       "ES    10\n",
       "MG    14\n",
       "Name: three, dtype: int64"
      ]
     },
     "execution_count": 1,
     "metadata": {},
     "output_type": "execute_result"
    }
   ],
   "source": [
    "import pandas as pd\n",
    "from pandas import Series, DataFrame\n",
    "import numpy as np\n",
    "a=DataFrame(np.arange(16).reshape(4,4), index=['SP','RJ','ES','MG'],\n",
    "                                              columns=['one','two','three','four'])\n",
    "#a[a['one']>5]\n",
    "a['three']\n"
   ]
  },
  {
   "cell_type": "code",
   "execution_count": 32,
   "id": "coordinated-steal",
   "metadata": {},
   "outputs": [
    {
     "data": {
      "text/plain": [
       "un          0\n",
       "dois      900\n",
       "trois     900\n",
       "quatre    900\n",
       "cinq      900\n",
       "dtype: int64"
      ]
     },
     "execution_count": 32,
     "metadata": {},
     "output_type": "execute_result"
    }
   ],
   "source": [
    "b=pd.Series(np.arange(5), index=['un', 'dois', 'trois', 'quatre', 'cinq'])\n",
    "b['dois':'cinq']=900\n",
    "b"
   ]
  },
  {
   "cell_type": "code",
   "execution_count": 23,
   "id": "statistical-dayton",
   "metadata": {},
   "outputs": [
    {
     "data": {
      "text/html": [
       "<div>\n",
       "<style scoped>\n",
       "    .dataframe tbody tr th:only-of-type {\n",
       "        vertical-align: middle;\n",
       "    }\n",
       "\n",
       "    .dataframe tbody tr th {\n",
       "        vertical-align: top;\n",
       "    }\n",
       "\n",
       "    .dataframe thead th {\n",
       "        text-align: right;\n",
       "    }\n",
       "</style>\n",
       "<table border=\"1\" class=\"dataframe\">\n",
       "  <thead>\n",
       "    <tr style=\"text-align: right;\">\n",
       "      <th></th>\n",
       "      <th>un</th>\n",
       "      <th>dois</th>\n",
       "      <th>trois</th>\n",
       "      <th>quatre</th>\n",
       "    </tr>\n",
       "  </thead>\n",
       "  <tbody>\n",
       "    <tr>\n",
       "      <th>SP</th>\n",
       "      <td>0</td>\n",
       "      <td>1</td>\n",
       "      <td>2</td>\n",
       "      <td>3</td>\n",
       "    </tr>\n",
       "    <tr>\n",
       "      <th>RJ</th>\n",
       "      <td>4</td>\n",
       "      <td>5</td>\n",
       "      <td>6</td>\n",
       "      <td>7</td>\n",
       "    </tr>\n",
       "  </tbody>\n",
       "</table>\n",
       "</div>"
      ],
      "text/plain": [
       "    un  dois  trois  quatre\n",
       "SP   0     1      2       3\n",
       "RJ   4     5      6       7"
      ]
     },
     "execution_count": 23,
     "metadata": {},
     "output_type": "execute_result"
    }
   ],
   "source": [
    "c=pd.DataFrame(np.arange(16).reshape(4,4), \n",
    "               index=['SP','RJ','ES','MG'],\n",
    "               columns=['un','dois', 'trois', 'quatre'])\n",
    "#c.iloc[:1]\n",
    "c[:2]"
   ]
  },
  {
   "cell_type": "code",
   "execution_count": 8,
   "id": "daily-cowboy",
   "metadata": {},
   "outputs": [
    {
     "data": {
      "text/html": [
       "<div>\n",
       "<style scoped>\n",
       "    .dataframe tbody tr th:only-of-type {\n",
       "        vertical-align: middle;\n",
       "    }\n",
       "\n",
       "    .dataframe tbody tr th {\n",
       "        vertical-align: top;\n",
       "    }\n",
       "\n",
       "    .dataframe thead th {\n",
       "        text-align: right;\n",
       "    }\n",
       "</style>\n",
       "<table border=\"1\" class=\"dataframe\">\n",
       "  <thead>\n",
       "    <tr style=\"text-align: right;\">\n",
       "      <th></th>\n",
       "      <th>0</th>\n",
       "      <th>1</th>\n",
       "      <th>2</th>\n",
       "      <th>3</th>\n",
       "    </tr>\n",
       "  </thead>\n",
       "  <tbody>\n",
       "    <tr>\n",
       "      <th>a</th>\n",
       "      <td>0.0</td>\n",
       "      <td>1.0</td>\n",
       "      <td>2.0</td>\n",
       "      <td>NaN</td>\n",
       "    </tr>\n",
       "    <tr>\n",
       "      <th>b</th>\n",
       "      <td>1.0</td>\n",
       "      <td>2.0</td>\n",
       "      <td>3.0</td>\n",
       "      <td>4.0</td>\n",
       "    </tr>\n",
       "    <tr>\n",
       "      <th>c</th>\n",
       "      <td>5.0</td>\n",
       "      <td>6.0</td>\n",
       "      <td>7.0</td>\n",
       "      <td>8.0</td>\n",
       "    </tr>\n",
       "    <tr>\n",
       "      <th>d</th>\n",
       "      <td>9.0</td>\n",
       "      <td>10.0</td>\n",
       "      <td>11.0</td>\n",
       "      <td>12.0</td>\n",
       "    </tr>\n",
       "    <tr>\n",
       "      <th>m</th>\n",
       "      <td>3.0</td>\n",
       "      <td>4.0</td>\n",
       "      <td>5.0</td>\n",
       "      <td>NaN</td>\n",
       "    </tr>\n",
       "    <tr>\n",
       "      <th>z</th>\n",
       "      <td>6.0</td>\n",
       "      <td>7.0</td>\n",
       "      <td>8.0</td>\n",
       "      <td>NaN</td>\n",
       "    </tr>\n",
       "  </tbody>\n",
       "</table>\n",
       "</div>"
      ],
      "text/plain": [
       "     0     1     2     3\n",
       "a  0.0   1.0   2.0   NaN\n",
       "b  1.0   2.0   3.0   4.0\n",
       "c  5.0   6.0   7.0   8.0\n",
       "d  9.0  10.0  11.0  12.0\n",
       "m  3.0   4.0   5.0   NaN\n",
       "z  6.0   7.0   8.0   NaN"
      ]
     },
     "execution_count": 8,
     "metadata": {},
     "output_type": "execute_result"
    }
   ],
   "source": [
    "d=pd.DataFrame(np.arange(9).reshape(3,3), index=list('amz')) \n",
    "e=pd.DataFrame(np.arange(1,13).reshape(3,4), index=list('bcd'))\n",
    "#print(d,'\\n','\\n',e,'\\n','\\n',d*e)\n",
    "e.add(d,fill_value=0)\n",
    "\n"
   ]
  },
  {
   "cell_type": "code",
   "execution_count": 31,
   "id": "sublime-thesaurus",
   "metadata": {},
   "outputs": [
    {
     "name": "stdout",
     "output_type": "stream",
     "text": [
      "     1   2   3   4\n",
      "SP   0   1   2   3\n",
      "RJ   4   5   6   7\n",
      "ES   8   9  10  11\n",
      "MG  12  13  14  15 \n",
      " \n",
      "     1  2  3  4\n",
      "SP -2 -1  0  1\n",
      "RJ -2 -1  0  1\n",
      "ES -2 -1  0  1\n",
      "MG -2 -1  0  1\n"
     ]
    }
   ],
   "source": [
    "a=pd.DataFrame(np.arange(16).reshape(4,4),\n",
    "              index=['SP','RJ','ES','MG'],\n",
    "              columns=[1,2,3,4])\n",
    "b=a.sub(a[3], axis=0)\n",
    "print(a,'\\n','\\n',b)"
   ]
  },
  {
   "cell_type": "code",
   "execution_count": 55,
   "id": "generic-parking",
   "metadata": {},
   "outputs": [
    {
     "data": {
      "text/html": [
       "<div>\n",
       "<style scoped>\n",
       "    .dataframe tbody tr th:only-of-type {\n",
       "        vertical-align: middle;\n",
       "    }\n",
       "\n",
       "    .dataframe tbody tr th {\n",
       "        vertical-align: top;\n",
       "    }\n",
       "\n",
       "    .dataframe thead th {\n",
       "        text-align: right;\n",
       "    }\n",
       "</style>\n",
       "<table border=\"1\" class=\"dataframe\">\n",
       "  <thead>\n",
       "    <tr style=\"text-align: right;\">\n",
       "      <th></th>\n",
       "      <th>1</th>\n",
       "      <th>2</th>\n",
       "      <th>3</th>\n",
       "    </tr>\n",
       "  </thead>\n",
       "  <tbody>\n",
       "    <tr>\n",
       "      <th>SP</th>\n",
       "      <td>-1.053856</td>\n",
       "      <td>1.244642</td>\n",
       "      <td>-0.595377</td>\n",
       "    </tr>\n",
       "    <tr>\n",
       "      <th>RJ</th>\n",
       "      <td>-0.863850</td>\n",
       "      <td>-0.155449</td>\n",
       "      <td>0.570633</td>\n",
       "    </tr>\n",
       "    <tr>\n",
       "      <th>ES</th>\n",
       "      <td>0.433730</td>\n",
       "      <td>0.390730</td>\n",
       "      <td>-1.559277</td>\n",
       "    </tr>\n",
       "    <tr>\n",
       "      <th>MG</th>\n",
       "      <td>0.183424</td>\n",
       "      <td>0.215188</td>\n",
       "      <td>1.151704</td>\n",
       "    </tr>\n",
       "  </tbody>\n",
       "</table>\n",
       "</div>"
      ],
      "text/plain": [
       "           1         2         3\n",
       "SP -1.053856  1.244642 -0.595377\n",
       "RJ -0.863850 -0.155449  0.570633\n",
       "ES  0.433730  0.390730 -1.559277\n",
       "MG  0.183424  0.215188  1.151704"
      ]
     },
     "execution_count": 55,
     "metadata": {},
     "output_type": "execute_result"
    }
   ],
   "source": [
    "a=DataFrame(np.random.randn(4,3),index=['SP','RJ','ES','MG'],\n",
    "              columns=[1,2,3])\n",
    "def f(x):\n",
    "    return pd.Series([x.max(), x.min()] , index=['max', 'min'])\n",
    "c= lambda x: '%2d' % x\n",
    "\n",
    "a\n",
    "#a.applymap(c)\n",
    "\n"
   ]
  },
  {
   "cell_type": "code",
   "execution_count": 77,
   "id": "formal-activity",
   "metadata": {},
   "outputs": [
    {
     "data": {
      "text/html": [
       "<div>\n",
       "<style scoped>\n",
       "    .dataframe tbody tr th:only-of-type {\n",
       "        vertical-align: middle;\n",
       "    }\n",
       "\n",
       "    .dataframe tbody tr th {\n",
       "        vertical-align: top;\n",
       "    }\n",
       "\n",
       "    .dataframe thead th {\n",
       "        text-align: right;\n",
       "    }\n",
       "</style>\n",
       "<table border=\"1\" class=\"dataframe\">\n",
       "  <thead>\n",
       "    <tr style=\"text-align: right;\">\n",
       "      <th></th>\n",
       "      <th>02/07</th>\n",
       "      <th>03/07</th>\n",
       "      <th>04/07</th>\n",
       "      <th>05/07</th>\n",
       "    </tr>\n",
       "  </thead>\n",
       "  <tbody>\n",
       "    <tr>\n",
       "      <th>RS</th>\n",
       "      <td>0.06</td>\n",
       "      <td>0.25</td>\n",
       "      <td>0.56</td>\n",
       "      <td>0.10</td>\n",
       "    </tr>\n",
       "    <tr>\n",
       "      <th>SC</th>\n",
       "      <td>0.03</td>\n",
       "      <td>0.22</td>\n",
       "      <td>0.50</td>\n",
       "      <td>0.38</td>\n",
       "    </tr>\n",
       "    <tr>\n",
       "      <th>PR</th>\n",
       "      <td>0.55</td>\n",
       "      <td>0.06</td>\n",
       "      <td>0.07</td>\n",
       "      <td>0.08</td>\n",
       "    </tr>\n",
       "    <tr>\n",
       "      <th>SP</th>\n",
       "      <td>0.31</td>\n",
       "      <td>0.23</td>\n",
       "      <td>0.13</td>\n",
       "      <td>0.67</td>\n",
       "    </tr>\n",
       "  </tbody>\n",
       "</table>\n",
       "</div>"
      ],
      "text/plain": [
       "   02/07 03/07 04/07 05/07\n",
       "RS  0.06  0.25  0.56  0.10\n",
       "SC  0.03  0.22  0.50  0.38\n",
       "PR  0.55  0.06  0.07  0.08\n",
       "SP  0.31  0.23  0.13  0.67"
      ]
     },
     "execution_count": 77,
     "metadata": {},
     "output_type": "execute_result"
    }
   ],
   "source": [
    "probabilidade_chuva=pd.DataFrame(np.random.randn(4,4),\n",
    "                          index=['RS','SC','PR','SP'],\n",
    "                                columns=['02/07','03/07','04/07', '05/07'])\n",
    "\n",
    "f= lambda x: '%.2f' % (np.abs(x)/3)\n",
    "\n",
    "probabilidade_chuva.applymap(f)"
   ]
  },
  {
   "cell_type": "code",
   "execution_count": 2,
   "id": "progressive-creation",
   "metadata": {},
   "outputs": [
    {
     "data": {
      "text/html": [
       "<div>\n",
       "<style scoped>\n",
       "    .dataframe tbody tr th:only-of-type {\n",
       "        vertical-align: middle;\n",
       "    }\n",
       "\n",
       "    .dataframe tbody tr th {\n",
       "        vertical-align: top;\n",
       "    }\n",
       "\n",
       "    .dataframe thead th {\n",
       "        text-align: right;\n",
       "    }\n",
       "</style>\n",
       "<table border=\"1\" class=\"dataframe\">\n",
       "  <thead>\n",
       "    <tr style=\"text-align: right;\">\n",
       "      <th></th>\n",
       "      <th>Monaco</th>\n",
       "      <th>Barcelona</th>\n",
       "      <th>Singapore</th>\n",
       "      <th>Brazil</th>\n",
       "    </tr>\n",
       "  </thead>\n",
       "  <tbody>\n",
       "    <tr>\n",
       "      <th>Verstappen</th>\n",
       "      <td>0.62</td>\n",
       "      <td>0.12</td>\n",
       "      <td>0.22</td>\n",
       "      <td>0.30</td>\n",
       "    </tr>\n",
       "    <tr>\n",
       "      <th>LeClerc</th>\n",
       "      <td>0.61</td>\n",
       "      <td>0.57</td>\n",
       "      <td>0.33</td>\n",
       "      <td>0.84</td>\n",
       "    </tr>\n",
       "    <tr>\n",
       "      <th>Perez</th>\n",
       "      <td>0.54</td>\n",
       "      <td>0.58</td>\n",
       "      <td>0.21</td>\n",
       "      <td>0.74</td>\n",
       "    </tr>\n",
       "    <tr>\n",
       "      <th>Hamilton</th>\n",
       "      <td>0.06</td>\n",
       "      <td>0.66</td>\n",
       "      <td>0.73</td>\n",
       "      <td>0.81</td>\n",
       "    </tr>\n",
       "  </tbody>\n",
       "</table>\n",
       "</div>"
      ],
      "text/plain": [
       "           Monaco Barcelona Singapore Brazil\n",
       "Verstappen   0.62      0.12      0.22   0.30\n",
       "LeClerc      0.61      0.57      0.33   0.84\n",
       "Perez        0.54      0.58      0.21   0.74\n",
       "Hamilton     0.06      0.66      0.73   0.81"
      ]
     },
     "execution_count": 2,
     "metadata": {},
     "output_type": "execute_result"
    }
   ],
   "source": [
    "import pandas as pd\n",
    "from pandas import Series, DataFrame\n",
    "import numpy as np\n",
    "chances_win=pd.DataFrame(np.random.rand(4,4),\n",
    "                        index=['Hamilton','Verstappen','Perez','LeClerc'],\n",
    "                        columns=['Monaco','Barcelona','Singapore','Brazil'])\n",
    "\n",
    "f= lambda x: '%.2f' % np.abs(x)\n",
    "\n",
    "b=chances_win.applymap(f)\n",
    "b.sort_index(axis=1, ascending=False)\n",
    "b.sort_values(by=['Monaco', 'Barcelona'], ascending=False)"
   ]
  },
  {
   "cell_type": "code",
   "execution_count": 3,
   "id": "fossil-hydrogen",
   "metadata": {},
   "outputs": [
    {
     "data": {
      "text/plain": [
       "0    6.5\n",
       "1    1.0\n",
       "2    6.5\n",
       "3    4.5\n",
       "4    3.0\n",
       "5    2.0\n",
       "6    4.5\n",
       "dtype: float64"
      ]
     },
     "execution_count": 3,
     "metadata": {},
     "output_type": "execute_result"
    }
   ],
   "source": [
    "obj=pd.Series([7,-5,7,4,2,0,4])\n",
    "obj.rank()  "
   ]
  },
  {
   "cell_type": "code",
   "execution_count": 38,
   "id": "activated-smooth",
   "metadata": {},
   "outputs": [
    {
     "data": {
      "text/html": [
       "<div>\n",
       "<style scoped>\n",
       "    .dataframe tbody tr th:only-of-type {\n",
       "        vertical-align: middle;\n",
       "    }\n",
       "\n",
       "    .dataframe tbody tr th {\n",
       "        vertical-align: top;\n",
       "    }\n",
       "\n",
       "    .dataframe thead th {\n",
       "        text-align: right;\n",
       "    }\n",
       "</style>\n",
       "<table border=\"1\" class=\"dataframe\">\n",
       "  <thead>\n",
       "    <tr style=\"text-align: right;\">\n",
       "      <th></th>\n",
       "      <th>SP</th>\n",
       "      <th>RJ</th>\n",
       "    </tr>\n",
       "  </thead>\n",
       "  <tbody>\n",
       "    <tr>\n",
       "      <th>1</th>\n",
       "      <td>NaN</td>\n",
       "      <td>NaN</td>\n",
       "    </tr>\n",
       "    <tr>\n",
       "      <th>2</th>\n",
       "      <td>1.0</td>\n",
       "      <td>1.250000</td>\n",
       "    </tr>\n",
       "    <tr>\n",
       "      <th>3</th>\n",
       "      <td>0.5</td>\n",
       "      <td>-0.333333</td>\n",
       "    </tr>\n",
       "  </tbody>\n",
       "</table>\n",
       "</div>"
      ],
      "text/plain": [
       "    SP        RJ\n",
       "1  NaN       NaN\n",
       "2  1.0  1.250000\n",
       "3  0.5 -0.333333"
      ]
     },
     "execution_count": 38,
     "metadata": {},
     "output_type": "execute_result"
    }
   ],
   "source": [
    "d={'SP':[1,2,3],\n",
    "   'RJ':[4,9,6]} \n",
    "  \n",
    "a=DataFrame(d, index=[1,2,3])\n",
    "a.pct_change()\n",
    "#a.cummax(skipna=True)\n",
    "#a.idxmax()\n",
    "#a.columns.is_unique"
   ]
  },
  {
   "cell_type": "code",
   "execution_count": 5,
   "id": "considerable-digest",
   "metadata": {},
   "outputs": [
    {
     "data": {
      "text/html": [
       "<div>\n",
       "<style scoped>\n",
       "    .dataframe tbody tr th:only-of-type {\n",
       "        vertical-align: middle;\n",
       "    }\n",
       "\n",
       "    .dataframe tbody tr th {\n",
       "        vertical-align: top;\n",
       "    }\n",
       "\n",
       "    .dataframe thead th {\n",
       "        text-align: right;\n",
       "    }\n",
       "</style>\n",
       "<table border=\"1\" class=\"dataframe\">\n",
       "  <thead>\n",
       "    <tr style=\"text-align: right;\">\n",
       "      <th></th>\n",
       "      <th>AAPL</th>\n",
       "      <th>IBM</th>\n",
       "      <th>MSFT</th>\n",
       "      <th>GOOG</th>\n",
       "      <th>PETR4.SA</th>\n",
       "    </tr>\n",
       "    <tr>\n",
       "      <th>Date</th>\n",
       "      <th></th>\n",
       "      <th></th>\n",
       "      <th></th>\n",
       "      <th></th>\n",
       "      <th></th>\n",
       "    </tr>\n",
       "  </thead>\n",
       "  <tbody>\n",
       "    <tr>\n",
       "      <th>2016-07-29</th>\n",
       "      <td>NaN</td>\n",
       "      <td>NaN</td>\n",
       "      <td>NaN</td>\n",
       "      <td>NaN</td>\n",
       "      <td>NaN</td>\n",
       "    </tr>\n",
       "    <tr>\n",
       "      <th>2016-08-01</th>\n",
       "      <td>0.017657</td>\n",
       "      <td>0.005167</td>\n",
       "      <td>-0.001764</td>\n",
       "      <td>0.005320</td>\n",
       "      <td>-0.052232</td>\n",
       "    </tr>\n",
       "    <tr>\n",
       "      <th>2016-08-02</th>\n",
       "      <td>-0.014804</td>\n",
       "      <td>-0.005388</td>\n",
       "      <td>0.000000</td>\n",
       "      <td>-0.002342</td>\n",
       "      <td>0.009778</td>\n",
       "    </tr>\n",
       "    <tr>\n",
       "      <th>2016-08-03</th>\n",
       "      <td>0.012538</td>\n",
       "      <td>0.000560</td>\n",
       "      <td>0.006893</td>\n",
       "      <td>0.002736</td>\n",
       "      <td>0.047535</td>\n",
       "    </tr>\n",
       "    <tr>\n",
       "      <th>2016-08-04</th>\n",
       "      <td>0.006178</td>\n",
       "      <td>0.005477</td>\n",
       "      <td>0.007372</td>\n",
       "      <td>-0.002031</td>\n",
       "      <td>0.009244</td>\n",
       "    </tr>\n",
       "    <tr>\n",
       "      <th>...</th>\n",
       "      <td>...</td>\n",
       "      <td>...</td>\n",
       "      <td>...</td>\n",
       "      <td>...</td>\n",
       "      <td>...</td>\n",
       "    </tr>\n",
       "    <tr>\n",
       "      <th>2021-07-22</th>\n",
       "      <td>0.009629</td>\n",
       "      <td>-0.004175</td>\n",
       "      <td>0.016844</td>\n",
       "      <td>0.005490</td>\n",
       "      <td>-0.002225</td>\n",
       "    </tr>\n",
       "    <tr>\n",
       "      <th>2021-07-23</th>\n",
       "      <td>0.011989</td>\n",
       "      <td>0.004477</td>\n",
       "      <td>0.012337</td>\n",
       "      <td>0.033657</td>\n",
       "      <td>-0.005948</td>\n",
       "    </tr>\n",
       "    <tr>\n",
       "      <th>2021-07-26</th>\n",
       "      <td>0.002895</td>\n",
       "      <td>0.010118</td>\n",
       "      <td>-0.002140</td>\n",
       "      <td>0.013268</td>\n",
       "      <td>0.027300</td>\n",
       "    </tr>\n",
       "    <tr>\n",
       "      <th>2021-07-27</th>\n",
       "      <td>-0.014900</td>\n",
       "      <td>-0.000140</td>\n",
       "      <td>-0.008684</td>\n",
       "      <td>-0.020395</td>\n",
       "      <td>-0.011649</td>\n",
       "    </tr>\n",
       "    <tr>\n",
       "      <th>2021-07-28</th>\n",
       "      <td>-0.012196</td>\n",
       "      <td>-0.006865</td>\n",
       "      <td>-0.001117</td>\n",
       "      <td>-0.003034</td>\n",
       "      <td>0.020626</td>\n",
       "    </tr>\n",
       "  </tbody>\n",
       "</table>\n",
       "<p>1290 rows × 5 columns</p>\n",
       "</div>"
      ],
      "text/plain": [
       "                AAPL       IBM      MSFT      GOOG  PETR4.SA\n",
       "Date                                                        \n",
       "2016-07-29       NaN       NaN       NaN       NaN       NaN\n",
       "2016-08-01  0.017657  0.005167 -0.001764  0.005320 -0.052232\n",
       "2016-08-02 -0.014804 -0.005388  0.000000 -0.002342  0.009778\n",
       "2016-08-03  0.012538  0.000560  0.006893  0.002736  0.047535\n",
       "2016-08-04  0.006178  0.005477  0.007372 -0.002031  0.009244\n",
       "...              ...       ...       ...       ...       ...\n",
       "2021-07-22  0.009629 -0.004175  0.016844  0.005490 -0.002225\n",
       "2021-07-23  0.011989  0.004477  0.012337  0.033657 -0.005948\n",
       "2021-07-26  0.002895  0.010118 -0.002140  0.013268  0.027300\n",
       "2021-07-27 -0.014900 -0.000140 -0.008684 -0.020395 -0.011649\n",
       "2021-07-28 -0.012196 -0.006865 -0.001117 -0.003034  0.020626\n",
       "\n",
       "[1290 rows x 5 columns]"
      ]
     },
     "execution_count": 5,
     "metadata": {},
     "output_type": "execute_result"
    }
   ],
   "source": [
    "import pandas as pd\n",
    "from pandas import Series, DataFrame\n",
    "import numpy as np\n",
    "import pandas_datareader.data as web\n",
    "all_data={ticker: web.get_data_yahoo(ticker)\n",
    "         for ticker in ['AAPL','IBM','MSFT','GOOG','PETR4.SA']}\n",
    "price=pd.DataFrame({ticker: data['Adj Close']\n",
    "                   for ticker, data in all_data.items()})\n",
    "volume=pd.DataFrame({ticker:data['Volume']\n",
    "                    for ticker, data in all_data.items()}) \n",
    "                   \n",
    "\n",
    "returns=price.pct_change()\n",
    "price.pct_change()\n",
    "\n"
   ]
  },
  {
   "cell_type": "code",
   "execution_count": 42,
   "id": "directed-runner",
   "metadata": {},
   "outputs": [
    {
     "data": {
      "text/plain": [
       "frango      1\n",
       "atum        1\n",
       "abóbora     1\n",
       "manteiga    2\n",
       "arroz       3\n",
       "dtype: int64"
      ]
     },
     "execution_count": 42,
     "metadata": {},
     "output_type": "execute_result"
    }
   ],
   "source": [
    "obj=pd.Series(['manteiga', 'manteiga', 'arroz','arroz','arroz', 'frango', 'atum', 'abóbora'])\n",
    "unique=pd.Series(['frango','abóbora','atum'] )\n",
    "pd.value_counts(obj.values, ascending=True)\n",
    "#pd.Index(unique).get_indexer(obj)\n",
    "#obj[obj.isin(['abacaxi','arroz'])]\n"
   ]
  },
  {
   "cell_type": "code",
   "execution_count": 52,
   "id": "ideal-beauty",
   "metadata": {},
   "outputs": [
    {
     "name": "stdout",
     "output_type": "stream",
     "text": [
      "   un  dois  trois\n",
      "0   1     2      1\n",
      "1   3     3      5\n",
      "2   4     1      2\n",
      "3   3     2      4\n",
      "4   4     3      4 \n",
      " \n",
      "     un  dois  trois\n",
      "1  1.0   1.0    1.0\n",
      "2  0.0   2.0    1.0\n",
      "3  2.0   2.0    0.0\n",
      "4  2.0   0.0    2.0\n",
      "5  0.0   0.0    1.0\n"
     ]
    }
   ],
   "source": [
    "data= pd.DataFrame({'un':[1,3,4,3,4],\n",
    "                   'dois':[2,3,1,2,3],\n",
    "                   'trois':[1,5,2,4,4]})\n",
    "print(data, '\\n','\\n', data.apply(pd.value_counts).fillna(0))"
   ]
  },
  {
   "cell_type": "code",
   "execution_count": 67,
   "id": "irish-singles",
   "metadata": {},
   "outputs": [
    {
     "data": {
      "text/html": [
       "<div>\n",
       "<style scoped>\n",
       "    .dataframe tbody tr th:only-of-type {\n",
       "        vertical-align: middle;\n",
       "    }\n",
       "\n",
       "    .dataframe tbody tr th {\n",
       "        vertical-align: top;\n",
       "    }\n",
       "\n",
       "    .dataframe thead th {\n",
       "        text-align: right;\n",
       "    }\n",
       "</style>\n",
       "<table border=\"1\" class=\"dataframe\">\n",
       "  <thead>\n",
       "    <tr style=\"text-align: right;\">\n",
       "      <th></th>\n",
       "      <th>Monaco</th>\n",
       "      <th>Azerbaijan</th>\n",
       "      <th>Brazil</th>\n",
       "    </tr>\n",
       "  </thead>\n",
       "  <tbody>\n",
       "    <tr>\n",
       "      <th>Bottas</th>\n",
       "      <td>1.0</td>\n",
       "      <td>1.0</td>\n",
       "      <td>0.0</td>\n",
       "    </tr>\n",
       "    <tr>\n",
       "      <th>Hamilton</th>\n",
       "      <td>2.0</td>\n",
       "      <td>1.0</td>\n",
       "      <td>1.0</td>\n",
       "    </tr>\n",
       "    <tr>\n",
       "      <th>Massa</th>\n",
       "      <td>0.0</td>\n",
       "      <td>1.0</td>\n",
       "      <td>2.0</td>\n",
       "    </tr>\n",
       "    <tr>\n",
       "      <th>Rosberg</th>\n",
       "      <td>1.0</td>\n",
       "      <td>0.0</td>\n",
       "      <td>1.0</td>\n",
       "    </tr>\n",
       "    <tr>\n",
       "      <th>Vettel</th>\n",
       "      <td>1.0</td>\n",
       "      <td>2.0</td>\n",
       "      <td>1.0</td>\n",
       "    </tr>\n",
       "  </tbody>\n",
       "</table>\n",
       "</div>"
      ],
      "text/plain": [
       "          Monaco  Azerbaijan  Brazil\n",
       "Bottas       1.0         1.0     0.0\n",
       "Hamilton     2.0         1.0     1.0\n",
       "Massa        0.0         1.0     2.0\n",
       "Rosberg      1.0         0.0     1.0\n",
       "Vettel       1.0         2.0     1.0"
      ]
     },
     "execution_count": 67,
     "metadata": {},
     "output_type": "execute_result"
    }
   ],
   "source": [
    "races={'Monaco':['Hamilton','Hamilton','Rosberg', 'Vettel', 'Bottas'] , \n",
    "      'Azerbaijan':['Hamilton','Massa','Vettel','Vettel', 'Bottas'] ,\n",
    "      'Brazil':['Massa','Massa','Rosberg','Vettel','Hamilton']}\n",
    "\n",
    "race_drivers=pd.DataFrame(races)\n",
    "#race_drivers\n",
    "race_drivers.apply(pd.value_counts).fillna(0)"
   ]
  },
  {
   "cell_type": "code",
   "execution_count": 84,
   "id": "breathing-lithuania",
   "metadata": {},
   "outputs": [
    {
     "data": {
      "text/html": [
       "<div>\n",
       "<style scoped>\n",
       "    .dataframe tbody tr th:only-of-type {\n",
       "        vertical-align: middle;\n",
       "    }\n",
       "\n",
       "    .dataframe tbody tr th {\n",
       "        vertical-align: top;\n",
       "    }\n",
       "\n",
       "    .dataframe thead th {\n",
       "        text-align: right;\n",
       "    }\n",
       "</style>\n",
       "<table border=\"1\" class=\"dataframe\">\n",
       "  <thead>\n",
       "    <tr style=\"text-align: right;\">\n",
       "      <th></th>\n",
       "      <th>Premier League</th>\n",
       "      <th>F.A Cup</th>\n",
       "      <th>League Cup</th>\n",
       "      <th>Total Titles</th>\n",
       "    </tr>\n",
       "  </thead>\n",
       "  <tbody>\n",
       "    <tr>\n",
       "      <th>Arsenal</th>\n",
       "      <td>0</td>\n",
       "      <td>1</td>\n",
       "      <td>0</td>\n",
       "      <td>1</td>\n",
       "    </tr>\n",
       "    <tr>\n",
       "      <th>Chelsea</th>\n",
       "      <td>0</td>\n",
       "      <td>1</td>\n",
       "      <td>0</td>\n",
       "      <td>1</td>\n",
       "    </tr>\n",
       "    <tr>\n",
       "      <th>Leicester</th>\n",
       "      <td>0</td>\n",
       "      <td>1</td>\n",
       "      <td>0</td>\n",
       "      <td>1</td>\n",
       "    </tr>\n",
       "    <tr>\n",
       "      <th>Liverpool</th>\n",
       "      <td>1</td>\n",
       "      <td>0</td>\n",
       "      <td>0</td>\n",
       "      <td>1</td>\n",
       "    </tr>\n",
       "    <tr>\n",
       "      <th>Manchester City</th>\n",
       "      <td>3</td>\n",
       "      <td>1</td>\n",
       "      <td>4</td>\n",
       "      <td>8</td>\n",
       "    </tr>\n",
       "  </tbody>\n",
       "</table>\n",
       "</div>"
      ],
      "text/plain": [
       "                 Premier League  F.A Cup  League Cup  Total Titles\n",
       "Arsenal                       0        1           0             1\n",
       "Chelsea                       0        1           0             1\n",
       "Leicester                     0        1           0             1\n",
       "Liverpool                     1        0           0             1\n",
       "Manchester City               3        1           4             8"
      ]
     },
     "execution_count": 84,
     "metadata": {},
     "output_type": "execute_result"
    }
   ],
   "source": [
    "champions={'Premier League':['Manchester City','Manchester City','Liverpool','Manchester City'],\n",
    "          'F.A Cup':['Chelsea', 'Manchester City','Arsenal','Leicester'],\n",
    "          'League Cup':['Manchester City','Manchester City','Manchester City','Manchester City']}\n",
    "competitions=pd.DataFrame(champions, index=['17/18','18/19','19/20','20/21'])\n",
    "england_tourneys=competitions.apply(pd.value_counts).fillna(0)\n",
    "#england_tourneys['Total Titles']=england_tourneys['Premier League']+england_tourneys['F.A Cup']+england_tourneys['League Cup']\n",
    "england_tourneys['Total Titles']=england_tourneys.iloc[:,0]+england_tourneys.iloc[:,1]+england_tourneys.iloc[:,2]\n",
    "england_tourneys.astype(int)"
   ]
  }
 ],
 "metadata": {
  "kernelspec": {
   "display_name": "Python 3",
   "language": "python",
   "name": "python3"
  },
  "language_info": {
   "codemirror_mode": {
    "name": "ipython",
    "version": 3
   },
   "file_extension": ".py",
   "mimetype": "text/x-python",
   "name": "python",
   "nbconvert_exporter": "python",
   "pygments_lexer": "ipython3",
   "version": "3.6.13"
  }
 },
 "nbformat": 4,
 "nbformat_minor": 5
}
