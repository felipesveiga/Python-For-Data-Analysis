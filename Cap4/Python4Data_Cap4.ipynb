{
 "cells": [
  {
   "cell_type": "markdown",
   "metadata": {},
   "source": [
    "# Welcome to Jupyter!"
   ]
  },
  {
   "cell_type": "markdown",
   "metadata": {},
   "source": [
    "This repo contains an introduction to [Jupyter](https://jupyter.org) and [IPython](https://ipython.org).\n",
    "\n",
    "Outline of some basics:\n",
    "\n",
    "* [Notebook Basics](../examples/Notebook/Notebook%20Basics.ipynb)\n",
    "* [IPython - beyond plain python](../examples/IPython%20Kernel/Beyond%20Plain%20Python.ipynb)\n",
    "* [Markdown Cells](../examples/Notebook/Working%20With%20Markdown%20Cells.ipynb)\n",
    "* [Rich Display System](../examples/IPython%20Kernel/Rich%20Output.ipynb)\n",
    "* [Custom Display logic](../examples/IPython%20Kernel/Custom%20Display%20Logic.ipynb)\n",
    "* [Running a Secure Public Notebook Server](../examples/Notebook/Running%20the%20Notebook%20Server.ipynb#Securing-the-notebook-server)\n",
    "* [How Jupyter works](../examples/Notebook/Multiple%20Languages%2C%20Frontends.ipynb) to run code in different languages."
   ]
  },
  {
   "cell_type": "markdown",
   "metadata": {},
   "source": [
    "You can also get this tutorial and run it on your laptop:\n",
    "\n",
    "    git clone https://github.com/ipython/ipython-in-depth\n",
    "\n",
    "Install IPython and Jupyter:\n",
    "\n",
    "with [conda](https://www.anaconda.com/download):\n",
    "\n",
    "    conda install ipython jupyter\n",
    "\n",
    "with pip:\n",
    "\n",
    "    # first, always upgrade pip!\n",
    "    pip install --upgrade pip\n",
    "    pip install --upgrade ipython jupyter\n",
    "\n",
    "Start the notebook in the tutorial directory:\n",
    "\n",
    "    cd ipython-in-depth\n",
    "    jupyter notebook"
   ]
  },
  {
   "cell_type": "code",
   "execution_count": 1,
   "metadata": {
    "collapsed": true,
    "jupyter": {
     "outputs_hidden": true
    }
   },
   "outputs": [
    {
     "name": "stdout",
     "output_type": "stream",
     "text": [
      "Collecting package metadata (current_repodata.json): done\n",
      "Solving environment: done\n",
      "\n",
      "\n",
      "==> WARNING: A newer version of conda exists. <==\n",
      "  current version: 4.9.2\n",
      "  latest version: 4.10.3\n",
      "\n",
      "Please update conda by running\n",
      "\n",
      "    $ conda update -n base conda\n",
      "\n",
      "\n",
      "\n",
      "## Package Plan ##\n",
      "\n",
      "  environment location: /srv/conda/envs/notebook\n",
      "\n",
      "  added / updated specs:\n",
      "    - ipython\n",
      "    - jupyter\n",
      "\n",
      "\n",
      "The following packages will be downloaded:\n",
      "\n",
      "    package                    |            build\n",
      "    ---------------------------|-----------------\n",
      "    ca-certificates-2021.5.30  |       ha878542_0         136 KB  conda-forge\n",
      "    certifi-2021.5.30          |   py36h5fab9bb_0         141 KB  conda-forge\n",
      "    jupyter-1.0.0              |   py36h5fab9bb_6           6 KB  conda-forge\n",
      "    jupyter_console-6.4.0      |     pyhd8ed1ab_0          22 KB  conda-forge\n",
      "    openssl-1.1.1k             |       h7f98852_0         2.1 MB  conda-forge\n",
      "    prompt-toolkit-3.0.19      |     pyha770c72_0         244 KB  conda-forge\n",
      "    prompt_toolkit-3.0.19      |       hd8ed1ab_0           4 KB  conda-forge\n",
      "    qtconsole-5.1.1            |     pyhd8ed1ab_0          89 KB  conda-forge\n",
      "    qtpy-1.9.0                 |             py_0          34 KB  conda-forge\n",
      "    ------------------------------------------------------------\n",
      "                                           Total:         2.8 MB\n",
      "\n",
      "The following NEW packages will be INSTALLED:\n",
      "\n",
      "  jupyter            conda-forge/linux-64::jupyter-1.0.0-py36h5fab9bb_6\n",
      "  jupyter_console    conda-forge/noarch::jupyter_console-6.4.0-pyhd8ed1ab_0\n",
      "  prompt_toolkit     conda-forge/noarch::prompt_toolkit-3.0.19-hd8ed1ab_0\n",
      "  qtconsole          conda-forge/noarch::qtconsole-5.1.1-pyhd8ed1ab_0\n",
      "  qtpy               conda-forge/noarch::qtpy-1.9.0-py_0\n",
      "\n",
      "The following packages will be UPDATED:\n",
      "\n",
      "  ca-certificates                      2020.12.5-ha878542_0 --> 2021.5.30-ha878542_0\n",
      "  certifi                          2020.12.5-py36h5fab9bb_1 --> 2021.5.30-py36h5fab9bb_0\n",
      "  openssl                                 1.1.1j-h7f98852_0 --> 1.1.1k-h7f98852_0\n",
      "  prompt-toolkit                        3.0.16-pyha770c72_0 --> 3.0.19-pyha770c72_0\n",
      "\n",
      "\n",
      "\n",
      "Downloading and Extracting Packages\n",
      "openssl-1.1.1k       | 2.1 MB    | ##################################### | 100% \n",
      "certifi-2021.5.30    | 141 KB    | ##################################### | 100% \n",
      "prompt_toolkit-3.0.1 | 4 KB      | ##################################### | 100% \n",
      "prompt-toolkit-3.0.1 | 244 KB    | ##################################### | 100% \n",
      "qtpy-1.9.0           | 34 KB     | ##################################### | 100% \n",
      "jupyter-1.0.0        | 6 KB      | ##################################### | 100% \n",
      "ca-certificates-2021 | 136 KB    | ##################################### | 100% \n",
      "qtconsole-5.1.1      | 89 KB     | ##################################### | 100% \n",
      "jupyter_console-6.4. | 22 KB     | ##################################### | 100% \n",
      "Preparing transaction: done\n",
      "Verifying transaction: done\n",
      "Executing transaction: done\n",
      "\n",
      "Note: you may need to restart the kernel to use updated packages.\n"
     ]
    }
   ],
   "source": [
    "conda install ipython jupyter"
   ]
  },
  {
   "cell_type": "code",
   "execution_count": 7,
   "metadata": {},
   "outputs": [],
   "source": [
    "def i(a):\n",
    "    print(a)\n",
    "    "
   ]
  },
  {
   "cell_type": "code",
   "execution_count": 1,
   "metadata": {},
   "outputs": [
    {
     "ename": "NameError",
     "evalue": "name 'i' is not defined",
     "output_type": "error",
     "traceback": [
      "\u001b[0;31m---------------------------------------------------------------------------\u001b[0m",
      "\u001b[0;31mNameError\u001b[0m                                 Traceback (most recent call last)",
      "\u001b[0;32m<ipython-input-1-481f00572ef5>\u001b[0m in \u001b[0;36m<module>\u001b[0;34m\u001b[0m\n\u001b[0;32m----> 1\u001b[0;31m \u001b[0mi\u001b[0m\u001b[0;34m(\u001b[0m\u001b[0;34m'avestruz e ameba'\u001b[0m\u001b[0;34m)\u001b[0m\u001b[0;34m\u001b[0m\u001b[0;34m\u001b[0m\u001b[0m\n\u001b[0m",
      "\u001b[0;31mNameError\u001b[0m: name 'i' is not defined"
     ]
    }
   ],
   "source": [
    "i('avestruz e ameba')"
   ]
  },
  {
   "cell_type": "code",
   "execution_count": 1,
   "metadata": {},
   "outputs": [
    {
     "data": {
      "text/plain": [
       "dtype('float64')"
      ]
     },
     "execution_count": 1,
     "metadata": {},
     "output_type": "execute_result"
    }
   ],
   "source": [
    "import numpy as np\n",
    "data=np.random.randn(2,3)\n",
    "data\n",
    "data.dtype"
   ]
  },
  {
   "cell_type": "code",
   "execution_count": 2,
   "metadata": {},
   "outputs": [
    {
     "data": {
      "text/plain": [
       "dtype('int64')"
      ]
     },
     "execution_count": 2,
     "metadata": {},
     "output_type": "execute_result"
    }
   ],
   "source": [
    "import numpy as np\n",
    "l=[[112,15,661,43],[1,661,909,5]]\n",
    "data2=np.array(l)\n",
    "data2.dtype"
   ]
  },
  {
   "cell_type": "code",
   "execution_count": 25,
   "metadata": {
    "collapsed": true,
    "jupyter": {
     "outputs_hidden": true
    }
   },
   "outputs": [
    {
     "data": {
      "text/plain": [
       "array([[1., 1., 1., 1.],\n",
       "       [1., 1., 1., 1.],\n",
       "       [1., 1., 1., 1.],\n",
       "       [1., 1., 1., 1.]])"
      ]
     },
     "execution_count": 25,
     "metadata": {},
     "output_type": "execute_result"
    }
   ],
   "source": [
    "np.ones((4,4))"
   ]
  },
  {
   "cell_type": "code",
   "execution_count": 30,
   "metadata": {
    "collapsed": true,
    "jupyter": {
     "outputs_hidden": true
    }
   },
   "outputs": [
    {
     "data": {
      "text/plain": [
       "array([[[[ 4.68225268e-310,  0.00000000e+000,  6.94315985e-310,\n",
       "           6.94315985e-310],\n",
       "         [-2.24620258e+070,  6.94315985e-310,  6.94315985e-310,\n",
       "          -2.58227421e+307]],\n",
       "\n",
       "        [[ 6.94315985e-310,  6.94315985e-310,  1.16190637e+117,\n",
       "           6.94315985e-310],\n",
       "         [ 6.94315985e-310, -2.33794073e-161,  6.94315985e-310,\n",
       "           6.94315985e-310]],\n",
       "\n",
       "        [[-1.87452501e+062,  6.94315985e-310,  6.94315985e-310,\n",
       "          -3.43765718e+017],\n",
       "         [ 6.94315985e-310,  6.94315985e-310, -2.13048127e+286,\n",
       "           6.94315985e-310]]],\n",
       "\n",
       "\n",
       "       [[[ 6.94315985e-310, -1.11166815e-025,  6.94315985e-310,\n",
       "           6.94315985e-310],\n",
       "         [ 2.86844885e+206,  6.94315985e-310,  6.94315985e-310,\n",
       "           1.34735047e+172]],\n",
       "\n",
       "        [[ 6.94315985e-310,  6.94315985e-310, -2.68543676e-094,\n",
       "           6.94315985e-310],\n",
       "         [ 6.94315985e-310,  4.21636870e+164,  6.94315985e-310,\n",
       "           6.94315985e-310]],\n",
       "\n",
       "        [[-7.98337347e-132,  6.94315985e-310,  6.94315985e-310,\n",
       "          -2.29382299e-245],\n",
       "         [ 6.94315985e-310,  6.94315985e-310,  2.07491567e-283,\n",
       "           6.94315985e-310]]]])"
      ]
     },
     "execution_count": 30,
     "metadata": {},
     "output_type": "execute_result"
    }
   ],
   "source": [
    "np.empty((2,3,2,4))"
   ]
  },
  {
   "cell_type": "code",
   "execution_count": 3,
   "metadata": {
    "collapsed": true,
    "jupyter": {
     "outputs_hidden": true
    }
   },
   "outputs": [
    {
     "data": {
      "text/plain": [
       "array([[1., 0.],\n",
       "       [0., 1.]])"
      ]
     },
     "execution_count": 3,
     "metadata": {},
     "output_type": "execute_result"
    }
   ],
   "source": [
    "np.eye(2)"
   ]
  },
  {
   "cell_type": "code",
   "execution_count": 11,
   "metadata": {},
   "outputs": [
    {
     "data": {
      "text/plain": [
       "array([ 1, 31, 54,  7], dtype=int16)"
      ]
     },
     "execution_count": 11,
     "metadata": {},
     "output_type": "execute_result"
    }
   ],
   "source": [
    "\n",
    "a=np.array([1,31,54,7])\n",
    "a.astype(np.float64).astype(np.int16)"
   ]
  },
  {
   "cell_type": "code",
   "execution_count": 23,
   "metadata": {},
   "outputs": [
    {
     "data": {
      "text/plain": [
       "array([41., 31., 21.])"
      ]
     },
     "execution_count": 23,
     "metadata": {},
     "output_type": "execute_result"
    }
   ],
   "source": [
    "b=np.array(['41', '31','21'], dtype=np.string_)\n",
    "b.astype(float)"
   ]
  },
  {
   "cell_type": "code",
   "execution_count": 30,
   "metadata": {},
   "outputs": [
    {
     "data": {
      "text/plain": [
       "array([0., 1., 2., 3., 4., 5., 6., 7., 8., 9.])"
      ]
     },
     "execution_count": 30,
     "metadata": {},
     "output_type": "execute_result"
    }
   ],
   "source": [
    "int_array=np.arange(10)\n",
    "calibers=np.array([0.33,0.54,0.76,0.99])\n",
    "int_array.astype(calibers.dtype)"
   ]
  },
  {
   "cell_type": "code",
   "execution_count": 38,
   "metadata": {},
   "outputs": [
    {
     "data": {
      "text/plain": [
       "array([[False, False, False],\n",
       "       [ True,  True,  True]])"
      ]
     },
     "execution_count": 38,
     "metadata": {},
     "output_type": "execute_result"
    }
   ],
   "source": [
    "arr=np.array([[1,2,3],[4,5,6]])\n",
    "arr2=np.array([[0,0,0],[100,400,500]])\n",
    "arr2>arr"
   ]
  },
  {
   "cell_type": "code",
   "execution_count": 2,
   "metadata": {},
   "outputs": [
    {
     "data": {
      "text/plain": [
       "4"
      ]
     },
     "execution_count": 2,
     "metadata": {},
     "output_type": "execute_result"
    }
   ],
   "source": [
    "arr=np.array([1,2,4,5,6])\n",
    "arr[2]"
   ]
  },
  {
   "cell_type": "code",
   "execution_count": 6,
   "metadata": {},
   "outputs": [
    {
     "data": {
      "text/plain": [
       "array([[0, 2, 4],\n",
       "       [1, 3, 5]])"
      ]
     },
     "execution_count": 6,
     "metadata": {},
     "output_type": "execute_result"
    }
   ],
   "source": [
    "arr=np.arange(6).reshape(3,2)\n",
    "arr.T"
   ]
  },
  {
   "cell_type": "code",
   "execution_count": 35,
   "metadata": {},
   "outputs": [
    {
     "name": "stdout",
     "output_type": "stream",
     "text": [
      "[[[ 1  2  9  5]\n",
      "  [ 3  4  6  8]]\n",
      "\n",
      " [[ 4  7  1 12]\n",
      "  [12 76 45 31]]]\n"
     ]
    },
    {
     "data": {
      "text/plain": [
       "array([[[ 1,  3],\n",
       "        [ 2,  4],\n",
       "        [ 9,  6],\n",
       "        [ 5,  8]],\n",
       "\n",
       "       [[ 4, 12],\n",
       "        [ 7, 76],\n",
       "        [ 1, 45],\n",
       "        [12, 31]]])"
      ]
     },
     "execution_count": 35,
     "metadata": {},
     "output_type": "execute_result"
    }
   ],
   "source": [
    "one=np.array([[[1,2,9,5],[3,4,6,8]],[[4,7,1,12],[12,76,45,31]]])\n",
    "two=np.array([[5,6],[7,8]])\n",
    "print(one)\n",
    "one.transpose(0,2,1)"
   ]
  },
  {
   "cell_type": "code",
   "execution_count": 1,
   "metadata": {},
   "outputs": [
    {
     "data": {
      "text/plain": [
       "array([[False, False],\n",
       "       [False,  True]])"
      ]
     },
     "execution_count": 1,
     "metadata": {},
     "output_type": "execute_result"
    }
   ],
   "source": [
    "import numpy as np\n",
    "a=np.array([[1.43,4.12],[9.01,25.009]])\n",
    "b=np.array([[3,9],[54,6]])\n",
    "c=np.array([[99,81],[0,0]])\n",
    "\n",
    "np.greater(a,b)"
   ]
  },
  {
   "cell_type": "code",
   "execution_count": 18,
   "metadata": {},
   "outputs": [
    {
     "data": {
      "text/plain": [
       "array([[ 5.        ,  8.94427191,  5.        ,  5.65685425],\n",
       "       [ 6.70820393, 10.        ,  6.70820393,  7.21110255],\n",
       "       [ 7.61577311, 10.63014581,  7.61577311,  8.06225775],\n",
       "       [ 8.54400375, 11.3137085 ,  8.54400375,  8.94427191]])"
      ]
     },
     "execution_count": 18,
     "metadata": {},
     "output_type": "execute_result"
    }
   ],
   "source": [
    "a=np.array([3,8,3,4])\n",
    "b=np.array([4,6,7,8])\n",
    "x,y=np.meshgrid(a,b)\n",
    "np.sqrt(x**2+y**2)"
   ]
  },
  {
   "cell_type": "code",
   "execution_count": 126,
   "metadata": {},
   "outputs": [
    {
     "data": {
      "text/plain": [
       "array([[-1.2804808 ,  1.        ,  1.        , -0.18912661],\n",
       "       [ 1.        , -0.79959737,  1.        ,  1.        ],\n",
       "       [-0.04452774,  1.        , -0.10387056, -1.75633065],\n",
       "       [-0.20498457, -0.69218013,  1.        ,  1.        ]])"
      ]
     },
     "execution_count": 126,
     "metadata": {},
     "output_type": "execute_result"
    }
   ],
   "source": [
    "\n",
    "a=np.random.randn(4,4)\n",
    "b=np.array([3,4])\n",
    "c=np.array([True,False])\n",
    "\n",
    "#print(a if c else b)\n",
    "np.where(a>0,1,a)"
   ]
  },
  {
   "cell_type": "code",
   "execution_count": 2,
   "metadata": {},
   "outputs": [
    {
     "data": {
      "text/plain": [
       "array([[[0, 4],\n",
       "        [2, 6]],\n",
       "\n",
       "       [[1, 5],\n",
       "        [3, 7]]])"
      ]
     },
     "execution_count": 2,
     "metadata": {},
     "output_type": "execute_result"
    }
   ],
   "source": [
    "x = np.array([[[0,1],[2,3]],\n",
    "              [[4,5],[6,7]]])\n",
    "np.swapaxes(x,0,2)\n"
   ]
  },
  {
   "cell_type": "code",
   "execution_count": 36,
   "metadata": {},
   "outputs": [
    {
     "data": {
      "text/plain": [
       "array([[ -5,   0],\n",
       "       [-20,  -1],\n",
       "       [  5,   6]])"
      ]
     },
     "execution_count": 36,
     "metadata": {},
     "output_type": "execute_result"
    }
   ],
   "source": [
    "import numpy as np\n",
    "a=np.array([[0,-5],[-1,-20],[5,6]])\n",
    "a.sort()\n",
    "a"
   ]
  },
  {
   "cell_type": "code",
   "execution_count": 51,
   "metadata": {},
   "outputs": [
    {
     "data": {
      "text/plain": [
       "array([ 3,  4,  5, 92])"
      ]
     },
     "execution_count": 51,
     "metadata": {},
     "output_type": "execute_result"
    }
   ],
   "source": [
    "a=np.array([1,2,3,5,1,4,1])\n",
    "b=np.array([1,92,2])\n",
    "np.setxor1d(b,a)\n"
   ]
  },
  {
   "cell_type": "code",
   "execution_count": 77,
   "metadata": {},
   "outputs": [],
   "source": [
    "o=np.array([[1,3],[1,0]])\n",
    "p=np.array([[1,1],[1,1]] )\n"
   ]
  },
  {
   "cell_type": "code",
   "execution_count": 90,
   "metadata": {},
   "outputs": [
    {
     "data": {
      "text/plain": [
       "array([[ 0.        ,  1.        ],\n",
       "       [ 0.33333333, -0.33333333]])"
      ]
     },
     "execution_count": 90,
     "metadata": {},
     "output_type": "execute_result"
    }
   ],
   "source": [
    "from numpy.linalg import qr, inv\n",
    "inv(o)"
   ]
  },
  {
   "cell_type": "code",
   "execution_count": 127,
   "metadata": {},
   "outputs": [
    {
     "ename": "ValueError",
     "evalue": "p < 0, p > 1 or p is NaN",
     "output_type": "error",
     "traceback": [
      "\u001b[0;31m---------------------------------------------------------------------------\u001b[0m",
      "\u001b[0;31mValueError\u001b[0m                                Traceback (most recent call last)",
      "\u001b[0;32m<ipython-input-127-47e493f48d83>\u001b[0m in \u001b[0;36m<module>\u001b[0;34m\u001b[0m\n\u001b[1;32m      1\u001b[0m \u001b[0ma\u001b[0m\u001b[0;34m=\u001b[0m\u001b[0mnp\u001b[0m\u001b[0;34m.\u001b[0m\u001b[0mrandom\u001b[0m\u001b[0;34m.\u001b[0m\u001b[0mrandn\u001b[0m\u001b[0;34m(\u001b[0m\u001b[0;36m4\u001b[0m\u001b[0;34m)\u001b[0m\u001b[0;34m.\u001b[0m\u001b[0mreshape\u001b[0m\u001b[0;34m(\u001b[0m\u001b[0;36m2\u001b[0m\u001b[0;34m,\u001b[0m\u001b[0;36m2\u001b[0m\u001b[0;34m)\u001b[0m\u001b[0;34m\u001b[0m\u001b[0;34m\u001b[0m\u001b[0m\n\u001b[1;32m      2\u001b[0m \u001b[0mb\u001b[0m\u001b[0;34m=\u001b[0m\u001b[0mnp\u001b[0m\u001b[0;34m.\u001b[0m\u001b[0mrandom\u001b[0m\u001b[0;34m.\u001b[0m\u001b[0mnormal\u001b[0m\u001b[0;34m(\u001b[0m\u001b[0msize\u001b[0m\u001b[0;34m=\u001b[0m\u001b[0;34m(\u001b[0m\u001b[0;36m2\u001b[0m\u001b[0;34m,\u001b[0m\u001b[0;36m2\u001b[0m\u001b[0;34m)\u001b[0m\u001b[0;34m)\u001b[0m\u001b[0;34m\u001b[0m\u001b[0;34m\u001b[0m\u001b[0m\n\u001b[0;32m----> 3\u001b[0;31m \u001b[0mnp\u001b[0m\u001b[0;34m.\u001b[0m\u001b[0mrandom\u001b[0m\u001b[0;34m.\u001b[0m\u001b[0mbinomial\u001b[0m\u001b[0;34m(\u001b[0m\u001b[0;34m-\u001b[0m\u001b[0;36m1\u001b[0m\u001b[0;34m,\u001b[0m\u001b[0;36m2\u001b[0m\u001b[0;34m)\u001b[0m\u001b[0;34m\u001b[0m\u001b[0;34m\u001b[0m\u001b[0m\n\u001b[0m",
      "\u001b[0;32mmtrand.pyx\u001b[0m in \u001b[0;36mnumpy.random.mtrand.RandomState.binomial\u001b[0;34m()\u001b[0m\n",
      "\u001b[0;32m_common.pyx\u001b[0m in \u001b[0;36mnumpy.random._common.check_constraint\u001b[0;34m()\u001b[0m\n",
      "\u001b[0;31mValueError\u001b[0m: p < 0, p > 1 or p is NaN"
     ]
    }
   ],
   "source": [
    "a=np.random.randn(4).reshape(2,2)\n",
    "b=np.random.normal(size=(2,2))\n",
    "np.random.binomial(-1,2)"
   ]
  },
  {
   "cell_type": "code",
   "execution_count": 1,
   "metadata": {},
   "outputs": [
    {
     "name": "stdout",
     "output_type": "stream",
     "text": [
      "0 [ -1   0   1   0  -1   0  -1  -2  -1   0  -1  -2  -3  -2  -3  -2  -3  -4\n",
      "  -3  -2  -1  -2  -1   0   1   0  -1  -2  -3  -4  -5  -6  -7  -6  -5  -4\n",
      "  -5  -6  -7  -6  -7  -8  -7  -8  -7  -6  -7  -8  -7  -8  -9 -10 -11 -10\n",
      "  -9  -8  -7  -6  -7  -8  -9 -10 -11 -12 -11 -10  -9  -8  -9 -10  -9 -10\n",
      "  -9 -10 -11 -12 -13 -14 -15 -16 -17 -18 -19 -18 -19 -20 -21 -22 -21 -20\n",
      " -19 -20 -21 -22 -23 -22 -21 -22 -21 -22 -21 -20 -21 -22 -23 -22 -23 -24\n",
      " -25 -24 -23 -24 -23 -22 -21 -20 -19 -18 -19 -18 -17 -16 -15 -16 -15 -14\n",
      " -13 -14 -15 -14 -13 -12 -13 -12 -13 -12 -11 -12 -13 -12 -13 -14 -15 -14\n",
      " -13 -12 -11 -12 -13 -12 -11 -12 -13 -12 -11 -10  -9  -8  -9  -8  -9 -10\n",
      " -11 -12 -11 -12 -11 -12 -11 -10 -11 -12 -11 -12 -13 -12 -13 -14 -13 -12\n",
      " -13 -14 -15 -16 -15 -14 -15 -14 -15 -14 -13 -12 -11 -12 -13 -14 -13 -12\n",
      " -11 -10 -11 -12 -13 -12 -13 -14 -13 -14 -15 -14 -15 -14 -15 -16 -17 -16\n",
      " -15 -14 -13 -12 -11 -10 -11 -12 -11 -10 -11 -12 -11 -12 -11 -10  -9  -8\n",
      "  -9  -8  -7  -6  -7  -6  -5  -4  -5  -4  -5  -4  -5  -6  -7  -8  -7  -8\n",
      "  -7  -6  -7  -8  -9  -8  -7  -6  -5  -6  -5  -6  -5  -6  -7  -6  -7  -6\n",
      "  -7  -6  -5  -4  -5  -4  -3  -4  -3  -4  -3  -2  -3  -2  -3  -4  -3  -2\n",
      "  -3  -2  -1  -2  -1   0  -1   0   1   0   1   2   1   0  -1   0  -1   0\n",
      "   1   0  -1  -2  -3  -4  -5  -4  -3  -4  -5  -4  -3  -2  -3  -2  -3  -4\n",
      "  -5  -6  -5  -4  -3  -2  -3  -4  -5  -4  -3  -2  -1   0  -1   0   1   2\n",
      "   3   4   3   2   1   2   3   2   1   0   1   0   1   0   1   0  -1  -2\n",
      "  -3  -4  -5  -4  -3  -2  -3  -2  -3  -2  -3  -4  -5  -4  -5  -6  -7  -6\n",
      "  -7  -8  -9  -8  -7  -8  -9  -8  -7  -8  -7  -8  -7  -6  -7  -6  -5  -6\n",
      "  -5  -6  -7  -6  -5  -6  -5  -4  -5  -4  -5  -6  -7  -8  -9 -10 -11 -12\n",
      " -13 -12 -13 -14 -13 -12 -11 -10 -11 -10  -9  -8  -9 -10  -9 -10 -11 -10\n",
      " -11 -12 -11 -10 -11 -12 -11 -10 -11 -10  -9  -8  -9 -10 -11 -12 -13 -14\n",
      " -15 -14 -13 -14 -13 -12 -13 -14 -15 -14 -15 -16 -17 -18 -17 -18 -17 -18\n",
      " -19 -18 -17 -16 -17 -16 -15 -16 -15 -14 -13 -14 -13 -14 -13 -12 -11 -12\n",
      " -11 -12 -11 -12 -11 -10 -11 -12 -11 -10  -9 -10 -11 -10  -9 -10 -11 -12\n",
      " -11 -10 -11 -10 -11 -10 -11 -10  -9 -10 -11 -12 -13 -12 -11 -12 -13 -12\n",
      " -13 -14 -15 -14 -15 -14 -15 -16 -15 -16 -15 -16 -17 -18 -17 -16 -17 -18\n",
      " -17 -16 -15 -14 -13 -12 -11 -10 -11 -12 -11 -12 -13 -14 -13 -14 -13 -12\n",
      " -13 -14 -13 -14 -15 -16 -17 -18 -17 -16 -15 -14 -15 -14 -15 -14 -15 -14\n",
      " -15 -16 -17 -16 -17 -16 -15 -16 -15 -14 -13 -12 -13 -12 -11 -10 -11 -10\n",
      " -11 -10  -9  -8  -7  -6  -5  -4  -3  -2  -1   0  -1  -2  -3  -2  -3  -4\n",
      "  -5  -4  -5  -6  -5  -6  -7  -8  -9 -10 -11 -10 -11 -12 -11 -10 -11 -12\n",
      " -11 -10 -11 -10 -11 -10  -9  -8  -9 -10 -11 -10 -11 -12 -11 -10  -9 -10\n",
      "  -9 -10 -11 -10 -11 -10 -11 -10  -9 -10 -11 -12 -11 -12 -13 -14 -15 -16\n",
      " -17 -16 -17 -18 -17 -16 -17 -16 -15 -14 -15 -14 -15 -14 -15 -16 -17 -16\n",
      " -15 -14 -13 -12 -11 -10 -11 -12 -11 -10  -9 -10  -9  -8  -7  -6  -5  -6\n",
      "  -5  -4  -3  -4  -3  -2  -3  -2  -1  -2  -3  -4  -3  -2  -1   0  -1   0\n",
      "  -1  -2  -3  -2  -3  -4  -5  -4  -5  -6  -7  -8  -7  -6  -7  -8  -7  -8\n",
      "  -9 -10 -11 -10  -9  -8  -7  -8  -9  -8  -9 -10  -9 -10 -11 -12 -13 -14\n",
      " -13 -12 -11 -10  -9 -10  -9  -8  -7  -8  -9  -8  -9  -8  -9  -8  -7  -6\n",
      "  -5  -6  -7  -6  -7  -8  -9 -10 -11 -10  -9 -10  -9 -10 -11 -12 -13 -12\n",
      " -13 -12 -13 -12 -11 -12 -13 -12 -11 -10  -9 -10 -11 -10  -9  -8  -7  -6\n",
      "  -7  -6  -5  -4  -5  -6  -5  -6  -7  -6  -7  -6  -5  -6  -7  -6  -5  -6\n",
      "  -5  -6  -7  -6  -5  -6  -5  -6  -5  -6  -7  -8  -9  -8  -9 -10  -9 -10\n",
      " -11 -10  -9  -8  -7  -6  -7  -8  -9  -8  -9 -10  -9 -10  -9 -10 -11 -12\n",
      " -13 -14 -15 -14 -15 -14 -15 -14 -13 -12 -13 -12 -11 -10 -11 -10 -11 -10\n",
      " -11 -10  -9 -10  -9 -10 -11 -10 -11 -12 -13 -14 -13 -14 -15 -16 -17 -18\n",
      " -19 -18 -17 -18 -17 -18 -17 -16 -15 -16 -15 -16 -15 -16 -17 -18 -19 -18\n",
      " -17 -18 -17 -18 -17 -16 -15 -16 -15 -16 -15 -16 -17 -16 -15 -14 -13 -14\n",
      " -15 -14 -13 -12 -11 -10 -11 -10 -11 -10  -9 -10 -11 -10 -11 -10  -9 -10\n",
      "  -9 -10  -9  -8  -7  -6  -7  -8  -7  -6  -7  -8  -9  -8  -7  -8  -7  -6\n",
      "  -7  -8  -7  -8  -9  -8  -9 -10 -11 -10 -11 -12 -13 -12 -13 -14 -13 -14\n",
      " -13 -12 -13 -14 -13 -14 -15 -14 -13 -14]\n"
     ]
    }
   ],
   "source": [
    "import numpy as np\n",
    "a=np.random.randint(0,2,size=1000)\n",
    "steps=np.where(a>0,1,-1)\n",
    "walk=steps.cumsum()\n",
    "x=np.abs(walk>10).argmax()\n",
    "print(x,walk)\n"
   ]
  },
  {
   "cell_type": "code",
   "execution_count": 17,
   "metadata": {},
   "outputs": [
    {
     "data": {
      "text/plain": [
       "503.1646234676007"
      ]
     },
     "execution_count": 17,
     "metadata": {},
     "output_type": "execute_result"
    }
   ],
   "source": [
    "import numpy as np\n",
    "a=np.random.randint(0,2,size=(5000,1000))\n",
    "steps=np.where(a>0,1,-1)\n",
    "walks=steps.cumsum(1)\n",
    "hits30=(np.abs(walks)>=30).any(1)\n",
    "(np.abs(walks[hits30])>=30).argmax(1)                        .mean()"
   ]
  },
  {
   "cell_type": "code",
   "execution_count": 48,
   "metadata": {},
   "outputs": [
    {
     "data": {
      "text/plain": [
       "array([[False, False,  True,  True],\n",
       "       [False, False,  True,  True]])"
      ]
     },
     "execution_count": 48,
     "metadata": {},
     "output_type": "execute_result"
    }
   ],
   "source": [
    "ma=np.array([[2,3,8,16],[1,2,5,9]])\n",
    "cond=(np.abs(ma)>2).any(1)\n",
    "#(np.abs(ma[cond])>2).argmax(1).mean()\n",
    "(np.abs(ma)>3)"
   ]
  }
 ],
 "metadata": {
  "kernelspec": {
   "display_name": "Python 3",
   "language": "python",
   "name": "python3"
  },
  "language_info": {
   "codemirror_mode": {
    "name": "ipython",
    "version": 3
   },
   "file_extension": ".py",
   "mimetype": "text/x-python",
   "name": "python",
   "nbconvert_exporter": "python",
   "pygments_lexer": "ipython3",
   "version": "3.8.8"
  }
 },
 "nbformat": 4,
 "nbformat_minor": 4
}
